{
 "cells": [
  {
   "cell_type": "code",
   "execution_count": 23,
   "metadata": {},
   "outputs": [],
   "source": [
    "import csv\n",
    "\n",
    "import numpy as np\n",
    "import tensorflow as tf\n",
    "from sklearn.model_selection import train_test_split\n",
    "\n",
    "RANDOM_SEED = 42"
   ]
  },
  {
   "cell_type": "markdown",
   "metadata": {},
   "source": [
    "# 各パス指定"
   ]
  },
  {
   "cell_type": "code",
   "execution_count": 24,
   "metadata": {},
   "outputs": [],
   "source": [
    "dataset = 'model/keypoint_classifier/keypoint.csv'\n",
    "model_save_path = 'model/keypoint_classifier/keypoint_classifier.hdf5'"
   ]
  },
  {
   "cell_type": "markdown",
   "metadata": {},
   "source": [
    "# 分類数設定"
   ]
  },
  {
   "cell_type": "code",
   "execution_count": 25,
   "metadata": {},
   "outputs": [],
   "source": [
    "NUM_CLASSES = 27"
   ]
  },
  {
   "cell_type": "markdown",
   "metadata": {},
   "source": [
    "# 学習データ読み込み"
   ]
  },
  {
   "cell_type": "code",
   "execution_count": 26,
   "metadata": {},
   "outputs": [],
   "source": [
    "X_dataset = np.loadtxt(dataset, delimiter=',', dtype='float32', usecols=list(range(1, (21 * 2) + 1)))"
   ]
  },
  {
   "cell_type": "code",
   "execution_count": 27,
   "metadata": {},
   "outputs": [],
   "source": [
    "y_dataset = np.loadtxt(dataset, delimiter=',', dtype='int32', usecols=(0))"
   ]
  },
  {
   "cell_type": "code",
   "execution_count": 28,
   "metadata": {},
   "outputs": [],
   "source": [
    "X_train, X_test, y_train, y_test = train_test_split(X_dataset, y_dataset, train_size=0.75, random_state=RANDOM_SEED)"
   ]
  },
  {
   "cell_type": "markdown",
   "metadata": {},
   "source": [
    "# モデル構築"
   ]
  },
  {
   "cell_type": "code",
   "execution_count": 29,
   "metadata": {},
   "outputs": [],
   "source": [
    "model = tf.keras.models.Sequential([\n",
    "    tf.keras.layers.Input((21 * 2, )),\n",
    "    tf.keras.layers.Dropout(0.2),\n",
    "    tf.keras.layers.Dense(20, activation='relu'),\n",
    "    tf.keras.layers.Dropout(0.4),\n",
    "    tf.keras.layers.Dense(10, activation='relu'),\n",
    "    tf.keras.layers.Dense(NUM_CLASSES, activation='softmax')\n",
    "])"
   ]
  },
  {
   "cell_type": "code",
   "execution_count": 30,
   "metadata": {},
   "outputs": [
    {
     "name": "stdout",
     "output_type": "stream",
     "text": [
      "Model: \"sequential_1\"\n",
      "_________________________________________________________________\n",
      " Layer (type)                Output Shape              Param #   \n",
      "=================================================================\n",
      " dropout_2 (Dropout)         (None, 42)                0         \n",
      "                                                                 \n",
      " dense_3 (Dense)             (None, 20)                860       \n",
      "                                                                 \n",
      " dropout_3 (Dropout)         (None, 20)                0         \n",
      "                                                                 \n",
      " dense_4 (Dense)             (None, 10)                210       \n",
      "                                                                 \n",
      " dense_5 (Dense)             (None, 5)                 55        \n",
      "                                                                 \n",
      "=================================================================\n",
      "Total params: 1,125\n",
      "Trainable params: 1,125\n",
      "Non-trainable params: 0\n",
      "_________________________________________________________________\n"
     ]
    }
   ],
   "source": [
    "model.summary()  # tf.keras.utils.plot_model(model, show_shapes=True)"
   ]
  },
  {
   "cell_type": "code",
   "execution_count": 31,
   "metadata": {},
   "outputs": [],
   "source": [
    "# モデルチェックポイントのコールバック\n",
    "cp_callback = tf.keras.callbacks.ModelCheckpoint(\n",
    "    model_save_path, verbose=1, save_weights_only=False)\n",
    "# 早期打ち切り用コールバック\n",
    "es_callback = tf.keras.callbacks.EarlyStopping(patience=20, verbose=1)"
   ]
  },
  {
   "cell_type": "code",
   "execution_count": 32,
   "metadata": {},
   "outputs": [],
   "source": [
    "# モデルコンパイル\n",
    "model.compile(\n",
    "    optimizer='adam',\n",
    "    loss='sparse_categorical_crossentropy',\n",
    "    metrics=['accuracy']\n",
    ")"
   ]
  },
  {
   "cell_type": "markdown",
   "metadata": {},
   "source": [
    "# モデル訓練"
   ]
  },
  {
   "cell_type": "code",
   "execution_count": 33,
   "metadata": {
    "scrolled": true
   },
   "outputs": [
    {
     "name": "stdout",
     "output_type": "stream",
     "text": [
      "Epoch 1/1000\n",
      " 1/30 [>.............................] - ETA: 10s - loss: 1.6978 - accuracy: 0.1406\n",
      "Epoch 1: saving model to model/keypoint_classifier\\keypoint_classifier.hdf5\n",
      "30/30 [==============================] - 0s 5ms/step - loss: 1.6137 - accuracy: 0.2021 - val_loss: 1.4990 - val_accuracy: 0.3238\n",
      "Epoch 2/1000\n",
      " 1/30 [>.............................] - ETA: 0s - loss: 1.4984 - accuracy: 0.2812\n",
      "Epoch 2: saving model to model/keypoint_classifier\\keypoint_classifier.hdf5\n",
      "30/30 [==============================] - 0s 2ms/step - loss: 1.4845 - accuracy: 0.3080 - val_loss: 1.4006 - val_accuracy: 0.3610\n",
      "Epoch 3/1000\n",
      " 1/30 [>.............................] - ETA: 0s - loss: 1.4365 - accuracy: 0.3203\n",
      "Epoch 3: saving model to model/keypoint_classifier\\keypoint_classifier.hdf5\n",
      "30/30 [==============================] - 0s 2ms/step - loss: 1.4171 - accuracy: 0.3473 - val_loss: 1.3204 - val_accuracy: 0.4038\n",
      "Epoch 4/1000\n",
      " 1/30 [>.............................] - ETA: 0s - loss: 1.3289 - accuracy: 0.4062\n",
      "Epoch 4: saving model to model/keypoint_classifier\\keypoint_classifier.hdf5\n",
      "30/30 [==============================] - 0s 2ms/step - loss: 1.3483 - accuracy: 0.4010 - val_loss: 1.2445 - val_accuracy: 0.5313\n",
      "Epoch 5/1000\n",
      " 1/30 [>.............................] - ETA: 0s - loss: 1.2390 - accuracy: 0.5234\n",
      "Epoch 5: saving model to model/keypoint_classifier\\keypoint_classifier.hdf5\n",
      "30/30 [==============================] - 0s 2ms/step - loss: 1.2942 - accuracy: 0.4535 - val_loss: 1.1594 - val_accuracy: 0.6580\n",
      "Epoch 6/1000\n",
      " 1/30 [>.............................] - ETA: 0s - loss: 1.2411 - accuracy: 0.4609\n",
      "Epoch 6: saving model to model/keypoint_classifier\\keypoint_classifier.hdf5\n",
      "30/30 [==============================] - 0s 2ms/step - loss: 1.2366 - accuracy: 0.4831 - val_loss: 1.0750 - val_accuracy: 0.7237\n",
      "Epoch 7/1000\n",
      " 1/30 [>.............................] - ETA: 0s - loss: 1.1965 - accuracy: 0.5703\n",
      "Epoch 7: saving model to model/keypoint_classifier\\keypoint_classifier.hdf5\n",
      "30/30 [==============================] - 0s 2ms/step - loss: 1.1800 - accuracy: 0.5195 - val_loss: 0.9945 - val_accuracy: 0.7363\n",
      "Epoch 8/1000\n",
      " 1/30 [>.............................] - ETA: 0s - loss: 1.1317 - accuracy: 0.5625\n",
      "Epoch 8: saving model to model/keypoint_classifier\\keypoint_classifier.hdf5\n",
      "30/30 [==============================] - 0s 2ms/step - loss: 1.1277 - accuracy: 0.5365 - val_loss: 0.9249 - val_accuracy: 0.7609\n",
      "Epoch 9/1000\n",
      " 1/30 [>.............................] - ETA: 0s - loss: 1.1604 - accuracy: 0.4922\n",
      "Epoch 9: saving model to model/keypoint_classifier\\keypoint_classifier.hdf5\n",
      "30/30 [==============================] - 0s 2ms/step - loss: 1.0961 - accuracy: 0.5613 - val_loss: 0.8664 - val_accuracy: 0.7736\n",
      "Epoch 10/1000\n",
      " 1/30 [>.............................] - ETA: 0s - loss: 1.0379 - accuracy: 0.6094\n",
      "Epoch 10: saving model to model/keypoint_classifier\\keypoint_classifier.hdf5\n",
      "30/30 [==============================] - 0s 2ms/step - loss: 1.0548 - accuracy: 0.5729 - val_loss: 0.8221 - val_accuracy: 0.7886\n",
      "Epoch 11/1000\n",
      " 1/30 [>.............................] - ETA: 0s - loss: 1.0267 - accuracy: 0.5625\n",
      "Epoch 11: saving model to model/keypoint_classifier\\keypoint_classifier.hdf5\n",
      "30/30 [==============================] - 0s 2ms/step - loss: 1.0180 - accuracy: 0.5861 - val_loss: 0.7789 - val_accuracy: 0.7997\n",
      "Epoch 12/1000\n",
      " 1/30 [>.............................] - ETA: 0s - loss: 0.9828 - accuracy: 0.5781\n",
      "Epoch 12: saving model to model/keypoint_classifier\\keypoint_classifier.hdf5\n",
      "30/30 [==============================] - 0s 2ms/step - loss: 0.9989 - accuracy: 0.5964 - val_loss: 0.7374 - val_accuracy: 0.8211\n",
      "Epoch 13/1000\n",
      " 1/30 [>.............................] - ETA: 0s - loss: 0.8910 - accuracy: 0.6641\n",
      "Epoch 13: saving model to model/keypoint_classifier\\keypoint_classifier.hdf5\n",
      "30/30 [==============================] - 0s 2ms/step - loss: 0.9733 - accuracy: 0.6009 - val_loss: 0.7172 - val_accuracy: 0.8211\n",
      "Epoch 14/1000\n",
      " 1/30 [>.............................] - ETA: 0s - loss: 0.9260 - accuracy: 0.6484\n",
      "Epoch 14: saving model to model/keypoint_classifier\\keypoint_classifier.hdf5\n",
      "30/30 [==============================] - 0s 2ms/step - loss: 0.9482 - accuracy: 0.6212 - val_loss: 0.6847 - val_accuracy: 0.8440\n",
      "Epoch 15/1000\n",
      " 1/30 [>.............................] - ETA: 0s - loss: 0.8602 - accuracy: 0.6641\n",
      "Epoch 15: saving model to model/keypoint_classifier\\keypoint_classifier.hdf5\n",
      "30/30 [==============================] - 0s 2ms/step - loss: 0.9229 - accuracy: 0.6268 - val_loss: 0.6514 - val_accuracy: 0.8424\n",
      "Epoch 16/1000\n",
      " 1/30 [>.............................] - ETA: 0s - loss: 0.8674 - accuracy: 0.6484\n",
      "Epoch 16: saving model to model/keypoint_classifier\\keypoint_classifier.hdf5\n",
      "30/30 [==============================] - 0s 2ms/step - loss: 0.9032 - accuracy: 0.6300 - val_loss: 0.6201 - val_accuracy: 0.8591\n",
      "Epoch 17/1000\n",
      " 1/30 [>.............................] - ETA: 0s - loss: 0.8527 - accuracy: 0.6328\n",
      "Epoch 17: saving model to model/keypoint_classifier\\keypoint_classifier.hdf5\n",
      "30/30 [==============================] - 0s 2ms/step - loss: 0.8909 - accuracy: 0.6350 - val_loss: 0.5994 - val_accuracy: 0.8844\n",
      "Epoch 18/1000\n",
      " 1/30 [>.............................] - ETA: 0s - loss: 0.8842 - accuracy: 0.6484\n",
      "Epoch 18: saving model to model/keypoint_classifier\\keypoint_classifier.hdf5\n",
      "30/30 [==============================] - 0s 2ms/step - loss: 0.8710 - accuracy: 0.6487 - val_loss: 0.5769 - val_accuracy: 0.8789\n",
      "Epoch 19/1000\n",
      " 1/30 [>.............................] - ETA: 0s - loss: 0.8732 - accuracy: 0.6562\n",
      "Epoch 19: saving model to model/keypoint_classifier\\keypoint_classifier.hdf5\n",
      "30/30 [==============================] - 0s 2ms/step - loss: 0.8595 - accuracy: 0.6511 - val_loss: 0.5598 - val_accuracy: 0.8899\n",
      "Epoch 20/1000\n",
      " 1/30 [>.............................] - ETA: 0s - loss: 0.8326 - accuracy: 0.6641\n",
      "Epoch 20: saving model to model/keypoint_classifier\\keypoint_classifier.hdf5\n",
      "30/30 [==============================] - 0s 2ms/step - loss: 0.8333 - accuracy: 0.6651 - val_loss: 0.5456 - val_accuracy: 0.8836\n",
      "Epoch 21/1000\n",
      " 1/30 [>.............................] - ETA: 0s - loss: 0.7033 - accuracy: 0.7578\n",
      "Epoch 21: saving model to model/keypoint_classifier\\keypoint_classifier.hdf5\n",
      "30/30 [==============================] - 0s 2ms/step - loss: 0.8389 - accuracy: 0.6543 - val_loss: 0.5343 - val_accuracy: 0.8884\n",
      "Epoch 22/1000\n",
      " 1/30 [>.............................] - ETA: 0s - loss: 0.7147 - accuracy: 0.7344\n",
      "Epoch 22: saving model to model/keypoint_classifier\\keypoint_classifier.hdf5\n",
      "30/30 [==============================] - 0s 2ms/step - loss: 0.8318 - accuracy: 0.6690 - val_loss: 0.5198 - val_accuracy: 0.8907\n",
      "Epoch 23/1000\n",
      " 1/30 [>.............................] - ETA: 0s - loss: 0.7908 - accuracy: 0.6641\n",
      "Epoch 23: saving model to model/keypoint_classifier\\keypoint_classifier.hdf5\n",
      "30/30 [==============================] - 0s 2ms/step - loss: 0.8141 - accuracy: 0.6622 - val_loss: 0.5044 - val_accuracy: 0.8971\n",
      "Epoch 24/1000\n",
      " 1/30 [>.............................] - ETA: 0s - loss: 0.8282 - accuracy: 0.7344\n",
      "Epoch 24: saving model to model/keypoint_classifier\\keypoint_classifier.hdf5\n",
      "30/30 [==============================] - 0s 2ms/step - loss: 0.8047 - accuracy: 0.6709 - val_loss: 0.4932 - val_accuracy: 0.8971\n",
      "Epoch 25/1000\n",
      " 1/30 [>.............................] - ETA: 0s - loss: 0.8943 - accuracy: 0.6641\n",
      "Epoch 25: saving model to model/keypoint_classifier\\keypoint_classifier.hdf5\n",
      "30/30 [==============================] - 0s 2ms/step - loss: 0.8118 - accuracy: 0.6704 - val_loss: 0.4893 - val_accuracy: 0.8915\n",
      "Epoch 26/1000\n",
      " 1/30 [>.............................] - ETA: 0s - loss: 0.7193 - accuracy: 0.7656\n",
      "Epoch 26: saving model to model/keypoint_classifier\\keypoint_classifier.hdf5\n",
      "30/30 [==============================] - 0s 2ms/step - loss: 0.7830 - accuracy: 0.6896 - val_loss: 0.4779 - val_accuracy: 0.8899\n",
      "Epoch 27/1000\n",
      " 1/30 [>.............................] - ETA: 0s - loss: 0.7611 - accuracy: 0.7344\n",
      "Epoch 27: saving model to model/keypoint_classifier\\keypoint_classifier.hdf5\n",
      "30/30 [==============================] - 0s 2ms/step - loss: 0.7707 - accuracy: 0.7002 - val_loss: 0.4564 - val_accuracy: 0.8947\n",
      "Epoch 28/1000\n",
      " 1/30 [>.............................] - ETA: 0s - loss: 0.7192 - accuracy: 0.7109\n",
      "Epoch 28: saving model to model/keypoint_classifier\\keypoint_classifier.hdf5\n",
      "30/30 [==============================] - 0s 2ms/step - loss: 0.7585 - accuracy: 0.7047 - val_loss: 0.4531 - val_accuracy: 0.8947\n",
      "Epoch 29/1000\n",
      " 1/30 [>.............................] - ETA: 0s - loss: 0.7889 - accuracy: 0.6875\n",
      "Epoch 29: saving model to model/keypoint_classifier\\keypoint_classifier.hdf5\n",
      "30/30 [==============================] - 0s 2ms/step - loss: 0.7651 - accuracy: 0.6939 - val_loss: 0.4439 - val_accuracy: 0.9002\n",
      "Epoch 30/1000\n",
      " 1/30 [>.............................] - ETA: 0s - loss: 0.5807 - accuracy: 0.7734\n",
      "Epoch 30: saving model to model/keypoint_classifier\\keypoint_classifier.hdf5\n",
      "30/30 [==============================] - 0s 2ms/step - loss: 0.7464 - accuracy: 0.7073 - val_loss: 0.4320 - val_accuracy: 0.9042\n",
      "Epoch 31/1000\n",
      " 1/30 [>.............................] - ETA: 0s - loss: 0.7872 - accuracy: 0.6641\n",
      "Epoch 31: saving model to model/keypoint_classifier\\keypoint_classifier.hdf5\n",
      "30/30 [==============================] - 0s 2ms/step - loss: 0.7693 - accuracy: 0.6976 - val_loss: 0.4395 - val_accuracy: 0.8931\n",
      "Epoch 32/1000\n",
      " 1/30 [>.............................] - ETA: 0s - loss: 0.7683 - accuracy: 0.7031\n",
      "Epoch 32: saving model to model/keypoint_classifier\\keypoint_classifier.hdf5\n",
      "30/30 [==============================] - 0s 2ms/step - loss: 0.7319 - accuracy: 0.7097 - val_loss: 0.4213 - val_accuracy: 0.9026\n",
      "Epoch 33/1000\n",
      " 1/30 [>.............................] - ETA: 0s - loss: 0.7448 - accuracy: 0.7344\n",
      "Epoch 33: saving model to model/keypoint_classifier\\keypoint_classifier.hdf5\n",
      "30/30 [==============================] - 0s 2ms/step - loss: 0.7312 - accuracy: 0.7150 - val_loss: 0.4109 - val_accuracy: 0.9002\n",
      "Epoch 34/1000\n",
      " 1/30 [>.............................] - ETA: 0s - loss: 0.8174 - accuracy: 0.6797\n",
      "Epoch 34: saving model to model/keypoint_classifier\\keypoint_classifier.hdf5\n",
      "30/30 [==============================] - 0s 2ms/step - loss: 0.7285 - accuracy: 0.7253 - val_loss: 0.4103 - val_accuracy: 0.8971\n",
      "Epoch 35/1000\n",
      " 1/30 [>.............................] - ETA: 0s - loss: 0.7160 - accuracy: 0.7500\n",
      "Epoch 35: saving model to model/keypoint_classifier\\keypoint_classifier.hdf5\n",
      "30/30 [==============================] - 0s 3ms/step - loss: 0.7136 - accuracy: 0.7253 - val_loss: 0.4001 - val_accuracy: 0.8994\n",
      "Epoch 36/1000\n",
      " 1/30 [>.............................] - ETA: 0s - loss: 0.7234 - accuracy: 0.7344\n",
      "Epoch 36: saving model to model/keypoint_classifier\\keypoint_classifier.hdf5\n",
      "30/30 [==============================] - 0s 2ms/step - loss: 0.7250 - accuracy: 0.7087 - val_loss: 0.3937 - val_accuracy: 0.8994\n",
      "Epoch 37/1000\n",
      " 1/30 [>.............................] - ETA: 0s - loss: 0.7695 - accuracy: 0.7031\n",
      "Epoch 37: saving model to model/keypoint_classifier\\keypoint_classifier.hdf5\n",
      "30/30 [==============================] - 0s 2ms/step - loss: 0.7065 - accuracy: 0.7242 - val_loss: 0.3897 - val_accuracy: 0.9026\n",
      "Epoch 38/1000\n",
      " 1/30 [>.............................] - ETA: 0s - loss: 0.7513 - accuracy: 0.7109\n",
      "Epoch 38: saving model to model/keypoint_classifier\\keypoint_classifier.hdf5\n",
      "30/30 [==============================] - 0s 2ms/step - loss: 0.7065 - accuracy: 0.7227 - val_loss: 0.3898 - val_accuracy: 0.8994\n",
      "Epoch 39/1000\n",
      " 1/30 [>.............................] - ETA: 0s - loss: 0.6486 - accuracy: 0.7500\n",
      "Epoch 39: saving model to model/keypoint_classifier\\keypoint_classifier.hdf5\n",
      "30/30 [==============================] - 0s 2ms/step - loss: 0.7132 - accuracy: 0.7132 - val_loss: 0.3780 - val_accuracy: 0.9002\n",
      "Epoch 40/1000\n",
      " 1/30 [>.............................] - ETA: 0s - loss: 0.6928 - accuracy: 0.7578\n",
      "Epoch 40: saving model to model/keypoint_classifier\\keypoint_classifier.hdf5\n",
      "30/30 [==============================] - 0s 2ms/step - loss: 0.7097 - accuracy: 0.7235 - val_loss: 0.3767 - val_accuracy: 0.9026\n",
      "Epoch 41/1000\n",
      " 1/30 [>.............................] - ETA: 0s - loss: 0.6642 - accuracy: 0.6953\n",
      "Epoch 41: saving model to model/keypoint_classifier\\keypoint_classifier.hdf5\n",
      "30/30 [==============================] - 0s 2ms/step - loss: 0.7029 - accuracy: 0.7264 - val_loss: 0.3721 - val_accuracy: 0.9050\n",
      "Epoch 42/1000\n",
      " 1/30 [>.............................] - ETA: 0s - loss: 0.6487 - accuracy: 0.7500\n",
      "Epoch 42: saving model to model/keypoint_classifier\\keypoint_classifier.hdf5\n",
      "30/30 [==============================] - 0s 2ms/step - loss: 0.7053 - accuracy: 0.7213 - val_loss: 0.3684 - val_accuracy: 0.9082\n",
      "Epoch 43/1000\n",
      " 1/30 [>.............................] - ETA: 0s - loss: 0.7964 - accuracy: 0.7344\n",
      "Epoch 43: saving model to model/keypoint_classifier\\keypoint_classifier.hdf5\n",
      "30/30 [==============================] - 0s 2ms/step - loss: 0.7007 - accuracy: 0.7287 - val_loss: 0.3727 - val_accuracy: 0.9018\n",
      "Epoch 44/1000\n",
      " 1/30 [>.............................] - ETA: 0s - loss: 0.7184 - accuracy: 0.6953\n",
      "Epoch 44: saving model to model/keypoint_classifier\\keypoint_classifier.hdf5\n",
      "30/30 [==============================] - 0s 2ms/step - loss: 0.6893 - accuracy: 0.7258 - val_loss: 0.3605 - val_accuracy: 0.9089\n",
      "Epoch 45/1000\n",
      " 1/30 [>.............................] - ETA: 0s - loss: 0.7152 - accuracy: 0.7031\n",
      "Epoch 45: saving model to model/keypoint_classifier\\keypoint_classifier.hdf5\n",
      "30/30 [==============================] - 0s 2ms/step - loss: 0.6975 - accuracy: 0.7169 - val_loss: 0.3622 - val_accuracy: 0.9002\n",
      "Epoch 46/1000\n",
      " 1/30 [>.............................] - ETA: 0s - loss: 0.8160 - accuracy: 0.7266\n",
      "Epoch 46: saving model to model/keypoint_classifier\\keypoint_classifier.hdf5\n",
      "30/30 [==============================] - 0s 2ms/step - loss: 0.7273 - accuracy: 0.7211 - val_loss: 0.3592 - val_accuracy: 0.9050\n",
      "Epoch 47/1000\n",
      " 1/30 [>.............................] - ETA: 0s - loss: 0.6070 - accuracy: 0.7500\n",
      "Epoch 47: saving model to model/keypoint_classifier\\keypoint_classifier.hdf5\n",
      "30/30 [==============================] - 0s 2ms/step - loss: 0.7075 - accuracy: 0.7211 - val_loss: 0.3514 - val_accuracy: 0.9089\n",
      "Epoch 48/1000\n",
      " 1/30 [>.............................] - ETA: 0s - loss: 0.6523 - accuracy: 0.7656\n",
      "Epoch 48: saving model to model/keypoint_classifier\\keypoint_classifier.hdf5\n",
      "30/30 [==============================] - 0s 2ms/step - loss: 0.6910 - accuracy: 0.7285 - val_loss: 0.3499 - val_accuracy: 0.9082\n",
      "Epoch 49/1000\n",
      " 1/30 [>.............................] - ETA: 0s - loss: 0.7023 - accuracy: 0.7500\n",
      "Epoch 49: saving model to model/keypoint_classifier\\keypoint_classifier.hdf5\n",
      "30/30 [==============================] - 0s 2ms/step - loss: 0.6655 - accuracy: 0.7433 - val_loss: 0.3451 - val_accuracy: 0.9184\n",
      "Epoch 50/1000\n",
      " 1/30 [>.............................] - ETA: 0s - loss: 0.7295 - accuracy: 0.7109\n",
      "Epoch 50: saving model to model/keypoint_classifier\\keypoint_classifier.hdf5\n",
      "30/30 [==============================] - 0s 2ms/step - loss: 0.6807 - accuracy: 0.7367 - val_loss: 0.3476 - val_accuracy: 0.9177\n",
      "Epoch 51/1000\n",
      " 1/30 [>.............................] - ETA: 0s - loss: 0.7685 - accuracy: 0.7109\n",
      "Epoch 51: saving model to model/keypoint_classifier\\keypoint_classifier.hdf5\n",
      "30/30 [==============================] - 0s 2ms/step - loss: 0.6734 - accuracy: 0.7393 - val_loss: 0.3399 - val_accuracy: 0.9200\n",
      "Epoch 52/1000\n",
      " 1/30 [>.............................] - ETA: 0s - loss: 0.6307 - accuracy: 0.7812\n",
      "Epoch 52: saving model to model/keypoint_classifier\\keypoint_classifier.hdf5\n",
      "30/30 [==============================] - 0s 2ms/step - loss: 0.6807 - accuracy: 0.7343 - val_loss: 0.3417 - val_accuracy: 0.9224\n",
      "Epoch 53/1000\n",
      " 1/30 [>.............................] - ETA: 0s - loss: 0.5621 - accuracy: 0.7734\n",
      "Epoch 53: saving model to model/keypoint_classifier\\keypoint_classifier.hdf5\n",
      "30/30 [==============================] - 0s 2ms/step - loss: 0.6580 - accuracy: 0.7443 - val_loss: 0.3418 - val_accuracy: 0.9256\n",
      "Epoch 54/1000\n",
      " 1/30 [>.............................] - ETA: 0s - loss: 0.5693 - accuracy: 0.7734\n",
      "Epoch 54: saving model to model/keypoint_classifier\\keypoint_classifier.hdf5\n",
      "30/30 [==============================] - 0s 2ms/step - loss: 0.6551 - accuracy: 0.7470 - val_loss: 0.3267 - val_accuracy: 0.9319\n",
      "Epoch 55/1000\n",
      " 1/30 [>.............................] - ETA: 0s - loss: 0.6774 - accuracy: 0.7266\n",
      "Epoch 55: saving model to model/keypoint_classifier\\keypoint_classifier.hdf5\n",
      "30/30 [==============================] - 0s 2ms/step - loss: 0.6686 - accuracy: 0.7372 - val_loss: 0.3265 - val_accuracy: 0.9279\n",
      "Epoch 56/1000\n",
      " 1/30 [>.............................] - ETA: 0s - loss: 0.7535 - accuracy: 0.6797\n",
      "Epoch 56: saving model to model/keypoint_classifier\\keypoint_classifier.hdf5\n",
      "30/30 [==============================] - 0s 2ms/step - loss: 0.6507 - accuracy: 0.7454 - val_loss: 0.3217 - val_accuracy: 0.9343\n",
      "Epoch 57/1000\n",
      " 1/30 [>.............................] - ETA: 0s - loss: 0.6664 - accuracy: 0.7500\n",
      "Epoch 57: saving model to model/keypoint_classifier\\keypoint_classifier.hdf5\n",
      "30/30 [==============================] - 0s 2ms/step - loss: 0.6428 - accuracy: 0.7491 - val_loss: 0.3223 - val_accuracy: 0.9351\n",
      "Epoch 58/1000\n",
      " 1/30 [>.............................] - ETA: 0s - loss: 0.5964 - accuracy: 0.8047\n",
      "Epoch 58: saving model to model/keypoint_classifier\\keypoint_classifier.hdf5\n",
      "30/30 [==============================] - 0s 2ms/step - loss: 0.6446 - accuracy: 0.7491 - val_loss: 0.3251 - val_accuracy: 0.9232\n",
      "Epoch 59/1000\n",
      " 1/30 [>.............................] - ETA: 0s - loss: 0.7037 - accuracy: 0.7266\n",
      "Epoch 59: saving model to model/keypoint_classifier\\keypoint_classifier.hdf5\n",
      "30/30 [==============================] - 0s 2ms/step - loss: 0.6486 - accuracy: 0.7522 - val_loss: 0.3185 - val_accuracy: 0.9264\n",
      "Epoch 60/1000\n",
      " 1/30 [>.............................] - ETA: 0s - loss: 0.5286 - accuracy: 0.7734\n",
      "Epoch 60: saving model to model/keypoint_classifier\\keypoint_classifier.hdf5\n",
      "30/30 [==============================] - 0s 2ms/step - loss: 0.6547 - accuracy: 0.7454 - val_loss: 0.3264 - val_accuracy: 0.9295\n",
      "Epoch 61/1000\n",
      " 1/30 [>.............................] - ETA: 0s - loss: 0.7883 - accuracy: 0.7188\n",
      "Epoch 61: saving model to model/keypoint_classifier\\keypoint_classifier.hdf5\n",
      "30/30 [==============================] - 0s 2ms/step - loss: 0.6522 - accuracy: 0.7491 - val_loss: 0.3227 - val_accuracy: 0.9279\n",
      "Epoch 62/1000\n",
      " 1/30 [>.............................] - ETA: 0s - loss: 0.6647 - accuracy: 0.7578\n",
      "Epoch 62: saving model to model/keypoint_classifier\\keypoint_classifier.hdf5\n",
      "30/30 [==============================] - 0s 2ms/step - loss: 0.6337 - accuracy: 0.7478 - val_loss: 0.3213 - val_accuracy: 0.9169\n",
      "Epoch 63/1000\n",
      " 1/30 [>.............................] - ETA: 0s - loss: 0.7318 - accuracy: 0.7422\n",
      "Epoch 63: saving model to model/keypoint_classifier\\keypoint_classifier.hdf5\n",
      "30/30 [==============================] - 0s 2ms/step - loss: 0.6309 - accuracy: 0.7554 - val_loss: 0.3102 - val_accuracy: 0.9367\n",
      "Epoch 64/1000\n",
      " 1/30 [>.............................] - ETA: 0s - loss: 0.6385 - accuracy: 0.7344\n",
      "Epoch 64: saving model to model/keypoint_classifier\\keypoint_classifier.hdf5\n",
      "30/30 [==============================] - 0s 2ms/step - loss: 0.6315 - accuracy: 0.7491 - val_loss: 0.3133 - val_accuracy: 0.9359\n",
      "Epoch 65/1000\n",
      " 1/30 [>.............................] - ETA: 0s - loss: 0.6892 - accuracy: 0.7344\n",
      "Epoch 65: saving model to model/keypoint_classifier\\keypoint_classifier.hdf5\n",
      "30/30 [==============================] - 0s 2ms/step - loss: 0.6449 - accuracy: 0.7435 - val_loss: 0.3103 - val_accuracy: 0.9422\n",
      "Epoch 66/1000\n",
      " 1/30 [>.............................] - ETA: 0s - loss: 0.5975 - accuracy: 0.7188\n",
      "Epoch 66: saving model to model/keypoint_classifier\\keypoint_classifier.hdf5\n",
      "30/30 [==============================] - 0s 2ms/step - loss: 0.6442 - accuracy: 0.7409 - val_loss: 0.3188 - val_accuracy: 0.9430\n",
      "Epoch 67/1000\n",
      " 1/30 [>.............................] - ETA: 0s - loss: 0.5478 - accuracy: 0.8125\n",
      "Epoch 67: saving model to model/keypoint_classifier\\keypoint_classifier.hdf5\n",
      "30/30 [==============================] - 0s 2ms/step - loss: 0.6406 - accuracy: 0.7504 - val_loss: 0.3143 - val_accuracy: 0.9406\n",
      "Epoch 68/1000\n",
      " 1/30 [>.............................] - ETA: 0s - loss: 0.6218 - accuracy: 0.7734\n",
      "Epoch 68: saving model to model/keypoint_classifier\\keypoint_classifier.hdf5\n",
      "30/30 [==============================] - 0s 2ms/step - loss: 0.6352 - accuracy: 0.7525 - val_loss: 0.3089 - val_accuracy: 0.9287\n",
      "Epoch 69/1000\n",
      " 1/30 [>.............................] - ETA: 0s - loss: 0.7265 - accuracy: 0.6797\n",
      "Epoch 69: saving model to model/keypoint_classifier\\keypoint_classifier.hdf5\n",
      "30/30 [==============================] - 0s 2ms/step - loss: 0.6253 - accuracy: 0.7591 - val_loss: 0.3142 - val_accuracy: 0.9343\n",
      "Epoch 70/1000\n",
      " 1/30 [>.............................] - ETA: 0s - loss: 0.6691 - accuracy: 0.7656\n",
      "Epoch 70: saving model to model/keypoint_classifier\\keypoint_classifier.hdf5\n",
      "30/30 [==============================] - 0s 2ms/step - loss: 0.6426 - accuracy: 0.7552 - val_loss: 0.3082 - val_accuracy: 0.9422\n",
      "Epoch 71/1000\n",
      " 1/30 [>.............................] - ETA: 0s - loss: 0.6639 - accuracy: 0.7422\n",
      "Epoch 71: saving model to model/keypoint_classifier\\keypoint_classifier.hdf5\n",
      "30/30 [==============================] - 0s 2ms/step - loss: 0.6523 - accuracy: 0.7417 - val_loss: 0.3115 - val_accuracy: 0.9335\n",
      "Epoch 72/1000\n",
      " 1/30 [>.............................] - ETA: 0s - loss: 0.6055 - accuracy: 0.7578\n",
      "Epoch 72: saving model to model/keypoint_classifier\\keypoint_classifier.hdf5\n",
      "30/30 [==============================] - 0s 2ms/step - loss: 0.6380 - accuracy: 0.7559 - val_loss: 0.3032 - val_accuracy: 0.9414\n",
      "Epoch 73/1000\n",
      " 1/30 [>.............................] - ETA: 0s - loss: 0.5406 - accuracy: 0.8359\n",
      "Epoch 73: saving model to model/keypoint_classifier\\keypoint_classifier.hdf5\n",
      "30/30 [==============================] - 0s 2ms/step - loss: 0.6158 - accuracy: 0.7607 - val_loss: 0.3058 - val_accuracy: 0.9327\n",
      "Epoch 74/1000\n",
      " 1/30 [>.............................] - ETA: 0s - loss: 0.7045 - accuracy: 0.7031\n",
      "Epoch 74: saving model to model/keypoint_classifier\\keypoint_classifier.hdf5\n",
      "30/30 [==============================] - 0s 2ms/step - loss: 0.6336 - accuracy: 0.7467 - val_loss: 0.3047 - val_accuracy: 0.9327\n",
      "Epoch 75/1000\n",
      " 1/30 [>.............................] - ETA: 0s - loss: 0.7618 - accuracy: 0.6953\n",
      "Epoch 75: saving model to model/keypoint_classifier\\keypoint_classifier.hdf5\n",
      "30/30 [==============================] - 0s 2ms/step - loss: 0.6476 - accuracy: 0.7425 - val_loss: 0.3049 - val_accuracy: 0.9359\n",
      "Epoch 76/1000\n",
      " 1/30 [>.............................] - ETA: 0s - loss: 0.5668 - accuracy: 0.7969\n",
      "Epoch 76: saving model to model/keypoint_classifier\\keypoint_classifier.hdf5\n",
      "30/30 [==============================] - 0s 2ms/step - loss: 0.6320 - accuracy: 0.7570 - val_loss: 0.3063 - val_accuracy: 0.9343\n",
      "Epoch 77/1000\n",
      " 1/30 [>.............................] - ETA: 0s - loss: 0.6164 - accuracy: 0.7188\n",
      "Epoch 77: saving model to model/keypoint_classifier\\keypoint_classifier.hdf5\n",
      "30/30 [==============================] - 0s 2ms/step - loss: 0.6333 - accuracy: 0.7520 - val_loss: 0.3091 - val_accuracy: 0.9367\n",
      "Epoch 78/1000\n",
      " 1/30 [>.............................] - ETA: 0s - loss: 0.5976 - accuracy: 0.7812\n",
      "Epoch 78: saving model to model/keypoint_classifier\\keypoint_classifier.hdf5\n",
      "30/30 [==============================] - 0s 3ms/step - loss: 0.6245 - accuracy: 0.7559 - val_loss: 0.3060 - val_accuracy: 0.9327\n",
      "Epoch 79/1000\n",
      " 1/30 [>.............................] - ETA: 0s - loss: 0.6539 - accuracy: 0.7578\n",
      "Epoch 79: saving model to model/keypoint_classifier\\keypoint_classifier.hdf5\n",
      "30/30 [==============================] - 0s 2ms/step - loss: 0.6118 - accuracy: 0.7570 - val_loss: 0.3074 - val_accuracy: 0.9367\n",
      "Epoch 80/1000\n",
      " 1/30 [>.............................] - ETA: 0s - loss: 0.6927 - accuracy: 0.7188\n",
      "Epoch 80: saving model to model/keypoint_classifier\\keypoint_classifier.hdf5\n",
      "30/30 [==============================] - 0s 2ms/step - loss: 0.6307 - accuracy: 0.7536 - val_loss: 0.3059 - val_accuracy: 0.9367\n",
      "Epoch 81/1000\n",
      " 1/30 [>.............................] - ETA: 0s - loss: 0.6301 - accuracy: 0.6797\n",
      "Epoch 81: saving model to model/keypoint_classifier\\keypoint_classifier.hdf5\n",
      "30/30 [==============================] - 0s 2ms/step - loss: 0.6067 - accuracy: 0.7639 - val_loss: 0.3002 - val_accuracy: 0.9343\n",
      "Epoch 82/1000\n",
      " 1/30 [>.............................] - ETA: 0s - loss: 0.6453 - accuracy: 0.7578\n",
      "Epoch 82: saving model to model/keypoint_classifier\\keypoint_classifier.hdf5\n",
      "30/30 [==============================] - 0s 2ms/step - loss: 0.6269 - accuracy: 0.7544 - val_loss: 0.3025 - val_accuracy: 0.9311\n",
      "Epoch 83/1000\n",
      " 1/30 [>.............................] - ETA: 0s - loss: 0.7171 - accuracy: 0.7266\n",
      "Epoch 83: saving model to model/keypoint_classifier\\keypoint_classifier.hdf5\n",
      "30/30 [==============================] - 0s 2ms/step - loss: 0.6318 - accuracy: 0.7641 - val_loss: 0.2986 - val_accuracy: 0.9343\n",
      "Epoch 84/1000\n",
      " 1/30 [>.............................] - ETA: 0s - loss: 0.5392 - accuracy: 0.8516\n",
      "Epoch 84: saving model to model/keypoint_classifier\\keypoint_classifier.hdf5\n",
      "30/30 [==============================] - 0s 2ms/step - loss: 0.6230 - accuracy: 0.7604 - val_loss: 0.3023 - val_accuracy: 0.9375\n",
      "Epoch 85/1000\n",
      " 1/30 [>.............................] - ETA: 0s - loss: 0.6399 - accuracy: 0.7578\n",
      "Epoch 85: saving model to model/keypoint_classifier\\keypoint_classifier.hdf5\n",
      "30/30 [==============================] - 0s 2ms/step - loss: 0.6218 - accuracy: 0.7533 - val_loss: 0.2944 - val_accuracy: 0.9367\n",
      "Epoch 86/1000\n",
      " 1/30 [>.............................] - ETA: 0s - loss: 0.6864 - accuracy: 0.7344\n",
      "Epoch 86: saving model to model/keypoint_classifier\\keypoint_classifier.hdf5\n",
      "30/30 [==============================] - 0s 2ms/step - loss: 0.6368 - accuracy: 0.7520 - val_loss: 0.3039 - val_accuracy: 0.9343\n",
      "Epoch 87/1000\n",
      " 1/30 [>.............................] - ETA: 0s - loss: 0.6768 - accuracy: 0.7188\n",
      "Epoch 87: saving model to model/keypoint_classifier\\keypoint_classifier.hdf5\n",
      "30/30 [==============================] - 0s 2ms/step - loss: 0.6179 - accuracy: 0.7604 - val_loss: 0.2934 - val_accuracy: 0.9367\n",
      "Epoch 88/1000\n",
      " 1/30 [>.............................] - ETA: 0s - loss: 0.6874 - accuracy: 0.7422\n",
      "Epoch 88: saving model to model/keypoint_classifier\\keypoint_classifier.hdf5\n",
      "30/30 [==============================] - 0s 2ms/step - loss: 0.6159 - accuracy: 0.7596 - val_loss: 0.2957 - val_accuracy: 0.9367\n",
      "Epoch 89/1000\n",
      " 1/30 [>.............................] - ETA: 0s - loss: 0.6580 - accuracy: 0.7266\n",
      "Epoch 89: saving model to model/keypoint_classifier\\keypoint_classifier.hdf5\n",
      "30/30 [==============================] - 0s 2ms/step - loss: 0.6144 - accuracy: 0.7649 - val_loss: 0.2908 - val_accuracy: 0.9390\n",
      "Epoch 90/1000\n",
      " 1/30 [>.............................] - ETA: 0s - loss: 0.6077 - accuracy: 0.7344\n",
      "Epoch 90: saving model to model/keypoint_classifier\\keypoint_classifier.hdf5\n",
      "30/30 [==============================] - 0s 2ms/step - loss: 0.6079 - accuracy: 0.7607 - val_loss: 0.2969 - val_accuracy: 0.9351\n",
      "Epoch 91/1000\n",
      " 1/30 [>.............................] - ETA: 0s - loss: 0.5712 - accuracy: 0.7656\n",
      "Epoch 91: saving model to model/keypoint_classifier\\keypoint_classifier.hdf5\n",
      "30/30 [==============================] - 0s 2ms/step - loss: 0.6205 - accuracy: 0.7644 - val_loss: 0.2962 - val_accuracy: 0.9343\n",
      "Epoch 92/1000\n",
      " 1/30 [>.............................] - ETA: 0s - loss: 0.6621 - accuracy: 0.6953\n",
      "Epoch 92: saving model to model/keypoint_classifier\\keypoint_classifier.hdf5\n",
      "30/30 [==============================] - 0s 2ms/step - loss: 0.6236 - accuracy: 0.7652 - val_loss: 0.2937 - val_accuracy: 0.9327\n",
      "Epoch 93/1000\n",
      " 1/30 [>.............................] - ETA: 0s - loss: 0.6415 - accuracy: 0.7266\n",
      "Epoch 93: saving model to model/keypoint_classifier\\keypoint_classifier.hdf5\n",
      "30/30 [==============================] - 0s 2ms/step - loss: 0.5978 - accuracy: 0.7652 - val_loss: 0.2870 - val_accuracy: 0.9390\n",
      "Epoch 94/1000\n",
      " 1/30 [>.............................] - ETA: 0s - loss: 0.6418 - accuracy: 0.7656\n",
      "Epoch 94: saving model to model/keypoint_classifier\\keypoint_classifier.hdf5\n",
      "30/30 [==============================] - 0s 2ms/step - loss: 0.6280 - accuracy: 0.7570 - val_loss: 0.2882 - val_accuracy: 0.9359\n",
      "Epoch 95/1000\n",
      " 1/30 [>.............................] - ETA: 0s - loss: 0.5883 - accuracy: 0.7812\n",
      "Epoch 95: saving model to model/keypoint_classifier\\keypoint_classifier.hdf5\n",
      "30/30 [==============================] - 0s 2ms/step - loss: 0.6261 - accuracy: 0.7707 - val_loss: 0.3068 - val_accuracy: 0.9343\n",
      "Epoch 96/1000\n",
      " 1/30 [>.............................] - ETA: 0s - loss: 0.5943 - accuracy: 0.7500\n",
      "Epoch 96: saving model to model/keypoint_classifier\\keypoint_classifier.hdf5\n",
      "30/30 [==============================] - 0s 2ms/step - loss: 0.6120 - accuracy: 0.7607 - val_loss: 0.2894 - val_accuracy: 0.9367\n",
      "Epoch 97/1000\n",
      " 1/30 [>.............................] - ETA: 0s - loss: 0.7162 - accuracy: 0.6797\n",
      "Epoch 97: saving model to model/keypoint_classifier\\keypoint_classifier.hdf5\n",
      "30/30 [==============================] - 0s 2ms/step - loss: 0.6190 - accuracy: 0.7612 - val_loss: 0.2945 - val_accuracy: 0.9382\n",
      "Epoch 98/1000\n",
      " 1/30 [>.............................] - ETA: 0s - loss: 0.6693 - accuracy: 0.7578\n",
      "Epoch 98: saving model to model/keypoint_classifier\\keypoint_classifier.hdf5\n",
      "30/30 [==============================] - 0s 2ms/step - loss: 0.6002 - accuracy: 0.7625 - val_loss: 0.2878 - val_accuracy: 0.9367\n",
      "Epoch 99/1000\n",
      " 1/30 [>.............................] - ETA: 0s - loss: 0.5366 - accuracy: 0.7891\n",
      "Epoch 99: saving model to model/keypoint_classifier\\keypoint_classifier.hdf5\n",
      "30/30 [==============================] - 0s 2ms/step - loss: 0.6069 - accuracy: 0.7665 - val_loss: 0.2849 - val_accuracy: 0.9335\n",
      "Epoch 100/1000\n",
      " 1/30 [>.............................] - ETA: 0s - loss: 0.5432 - accuracy: 0.7891\n",
      "Epoch 100: saving model to model/keypoint_classifier\\keypoint_classifier.hdf5\n",
      "30/30 [==============================] - 0s 2ms/step - loss: 0.6046 - accuracy: 0.7718 - val_loss: 0.2861 - val_accuracy: 0.9335\n",
      "Epoch 101/1000\n",
      " 1/30 [>.............................] - ETA: 0s - loss: 0.5886 - accuracy: 0.7578\n",
      "Epoch 101: saving model to model/keypoint_classifier\\keypoint_classifier.hdf5\n",
      "30/30 [==============================] - 0s 2ms/step - loss: 0.6255 - accuracy: 0.7554 - val_loss: 0.2889 - val_accuracy: 0.9398\n",
      "Epoch 102/1000\n",
      " 1/30 [>.............................] - ETA: 0s - loss: 0.5500 - accuracy: 0.7422\n",
      "Epoch 102: saving model to model/keypoint_classifier\\keypoint_classifier.hdf5\n",
      "30/30 [==============================] - 0s 2ms/step - loss: 0.6127 - accuracy: 0.7625 - val_loss: 0.2899 - val_accuracy: 0.9359\n",
      "Epoch 103/1000\n",
      " 1/30 [>.............................] - ETA: 0s - loss: 0.5787 - accuracy: 0.7578\n",
      "Epoch 103: saving model to model/keypoint_classifier\\keypoint_classifier.hdf5\n",
      "30/30 [==============================] - 0s 2ms/step - loss: 0.6066 - accuracy: 0.7596 - val_loss: 0.2800 - val_accuracy: 0.9335\n",
      "Epoch 104/1000\n",
      " 1/30 [>.............................] - ETA: 0s - loss: 0.4823 - accuracy: 0.8281\n",
      "Epoch 104: saving model to model/keypoint_classifier\\keypoint_classifier.hdf5\n",
      "30/30 [==============================] - 0s 2ms/step - loss: 0.6060 - accuracy: 0.7681 - val_loss: 0.2872 - val_accuracy: 0.9367\n",
      "Epoch 105/1000\n",
      " 1/30 [>.............................] - ETA: 0s - loss: 0.5818 - accuracy: 0.7812\n",
      "Epoch 105: saving model to model/keypoint_classifier\\keypoint_classifier.hdf5\n",
      "30/30 [==============================] - 0s 2ms/step - loss: 0.6043 - accuracy: 0.7644 - val_loss: 0.2811 - val_accuracy: 0.9359\n",
      "Epoch 106/1000\n",
      " 1/30 [>.............................] - ETA: 0s - loss: 0.5442 - accuracy: 0.7812\n",
      "Epoch 106: saving model to model/keypoint_classifier\\keypoint_classifier.hdf5\n",
      "30/30 [==============================] - 0s 2ms/step - loss: 0.5986 - accuracy: 0.7681 - val_loss: 0.2860 - val_accuracy: 0.9367\n",
      "Epoch 107/1000\n",
      " 1/30 [>.............................] - ETA: 0s - loss: 0.5434 - accuracy: 0.7812\n",
      "Epoch 107: saving model to model/keypoint_classifier\\keypoint_classifier.hdf5\n",
      "30/30 [==============================] - 0s 2ms/step - loss: 0.6260 - accuracy: 0.7581 - val_loss: 0.2924 - val_accuracy: 0.9382\n",
      "Epoch 108/1000\n",
      " 1/30 [>.............................] - ETA: 0s - loss: 0.5141 - accuracy: 0.7812\n",
      "Epoch 108: saving model to model/keypoint_classifier\\keypoint_classifier.hdf5\n",
      "30/30 [==============================] - 0s 2ms/step - loss: 0.5953 - accuracy: 0.7631 - val_loss: 0.2765 - val_accuracy: 0.9375\n",
      "Epoch 109/1000\n",
      " 1/30 [>.............................] - ETA: 0s - loss: 0.5504 - accuracy: 0.8203\n",
      "Epoch 109: saving model to model/keypoint_classifier\\keypoint_classifier.hdf5\n",
      "30/30 [==============================] - 0s 2ms/step - loss: 0.5784 - accuracy: 0.7718 - val_loss: 0.2880 - val_accuracy: 0.9367\n",
      "Epoch 110/1000\n",
      " 1/30 [>.............................] - ETA: 0s - loss: 0.5209 - accuracy: 0.7734\n",
      "Epoch 110: saving model to model/keypoint_classifier\\keypoint_classifier.hdf5\n",
      "30/30 [==============================] - 0s 2ms/step - loss: 0.6082 - accuracy: 0.7655 - val_loss: 0.2926 - val_accuracy: 0.9351\n",
      "Epoch 111/1000\n",
      " 1/30 [>.............................] - ETA: 0s - loss: 0.6615 - accuracy: 0.7656\n",
      "Epoch 111: saving model to model/keypoint_classifier\\keypoint_classifier.hdf5\n",
      "30/30 [==============================] - 0s 2ms/step - loss: 0.5966 - accuracy: 0.7699 - val_loss: 0.2853 - val_accuracy: 0.9390\n",
      "Epoch 112/1000\n",
      " 1/30 [>.............................] - ETA: 0s - loss: 0.6076 - accuracy: 0.7422\n",
      "Epoch 112: saving model to model/keypoint_classifier\\keypoint_classifier.hdf5\n",
      "30/30 [==============================] - 0s 2ms/step - loss: 0.5891 - accuracy: 0.7726 - val_loss: 0.2838 - val_accuracy: 0.9398\n",
      "Epoch 113/1000\n",
      " 1/30 [>.............................] - ETA: 0s - loss: 0.6530 - accuracy: 0.7500\n",
      "Epoch 113: saving model to model/keypoint_classifier\\keypoint_classifier.hdf5\n",
      "30/30 [==============================] - 0s 2ms/step - loss: 0.6011 - accuracy: 0.7731 - val_loss: 0.2801 - val_accuracy: 0.9430\n",
      "Epoch 114/1000\n",
      " 1/30 [>.............................] - ETA: 0s - loss: 0.5444 - accuracy: 0.7578\n",
      "Epoch 114: saving model to model/keypoint_classifier\\keypoint_classifier.hdf5\n",
      "30/30 [==============================] - 0s 2ms/step - loss: 0.6011 - accuracy: 0.7636 - val_loss: 0.2824 - val_accuracy: 0.9414\n",
      "Epoch 115/1000\n",
      " 1/30 [>.............................] - ETA: 0s - loss: 0.4829 - accuracy: 0.8047\n",
      "Epoch 115: saving model to model/keypoint_classifier\\keypoint_classifier.hdf5\n",
      "30/30 [==============================] - 0s 2ms/step - loss: 0.5975 - accuracy: 0.7668 - val_loss: 0.2820 - val_accuracy: 0.9398\n",
      "Epoch 116/1000\n",
      " 1/30 [>.............................] - ETA: 0s - loss: 0.6099 - accuracy: 0.7422\n",
      "Epoch 116: saving model to model/keypoint_classifier\\keypoint_classifier.hdf5\n",
      "30/30 [==============================] - 0s 2ms/step - loss: 0.5806 - accuracy: 0.7792 - val_loss: 0.2737 - val_accuracy: 0.9406\n",
      "Epoch 117/1000\n",
      " 1/30 [>.............................] - ETA: 0s - loss: 0.5485 - accuracy: 0.8281\n",
      "Epoch 117: saving model to model/keypoint_classifier\\keypoint_classifier.hdf5\n",
      "30/30 [==============================] - 0s 2ms/step - loss: 0.5861 - accuracy: 0.7726 - val_loss: 0.2850 - val_accuracy: 0.9375\n",
      "Epoch 118/1000\n",
      " 1/30 [>.............................] - ETA: 0s - loss: 0.4603 - accuracy: 0.8594\n",
      "Epoch 118: saving model to model/keypoint_classifier\\keypoint_classifier.hdf5\n",
      "30/30 [==============================] - 0s 2ms/step - loss: 0.5916 - accuracy: 0.7792 - val_loss: 0.2816 - val_accuracy: 0.9351\n",
      "Epoch 119/1000\n",
      " 1/30 [>.............................] - ETA: 0s - loss: 0.5501 - accuracy: 0.8047\n",
      "Epoch 119: saving model to model/keypoint_classifier\\keypoint_classifier.hdf5\n",
      "30/30 [==============================] - 0s 2ms/step - loss: 0.5964 - accuracy: 0.7673 - val_loss: 0.2781 - val_accuracy: 0.9398\n",
      "Epoch 120/1000\n",
      " 1/30 [>.............................] - ETA: 0s - loss: 0.6324 - accuracy: 0.7578\n",
      "Epoch 120: saving model to model/keypoint_classifier\\keypoint_classifier.hdf5\n",
      "30/30 [==============================] - 0s 2ms/step - loss: 0.6111 - accuracy: 0.7636 - val_loss: 0.2913 - val_accuracy: 0.9359\n",
      "Epoch 121/1000\n",
      " 1/30 [>.............................] - ETA: 0s - loss: 0.6148 - accuracy: 0.7578\n",
      "Epoch 121: saving model to model/keypoint_classifier\\keypoint_classifier.hdf5\n",
      "30/30 [==============================] - 0s 2ms/step - loss: 0.6056 - accuracy: 0.7665 - val_loss: 0.2863 - val_accuracy: 0.9438\n",
      "Epoch 122/1000\n",
      " 1/30 [>.............................] - ETA: 0s - loss: 0.7558 - accuracy: 0.6719\n",
      "Epoch 122: saving model to model/keypoint_classifier\\keypoint_classifier.hdf5\n",
      "30/30 [==============================] - 0s 2ms/step - loss: 0.5981 - accuracy: 0.7660 - val_loss: 0.2779 - val_accuracy: 0.9375\n",
      "Epoch 123/1000\n",
      " 1/30 [>.............................] - ETA: 0s - loss: 0.4856 - accuracy: 0.8516\n",
      "Epoch 123: saving model to model/keypoint_classifier\\keypoint_classifier.hdf5\n",
      "30/30 [==============================] - 0s 2ms/step - loss: 0.5796 - accuracy: 0.7797 - val_loss: 0.2769 - val_accuracy: 0.9390\n",
      "Epoch 124/1000\n",
      " 1/30 [>.............................] - ETA: 0s - loss: 0.6374 - accuracy: 0.7656\n",
      "Epoch 124: saving model to model/keypoint_classifier\\keypoint_classifier.hdf5\n",
      "30/30 [==============================] - 0s 2ms/step - loss: 0.5965 - accuracy: 0.7647 - val_loss: 0.2825 - val_accuracy: 0.9382\n",
      "Epoch 125/1000\n",
      " 1/30 [>.............................] - ETA: 0s - loss: 0.5141 - accuracy: 0.8047\n",
      "Epoch 125: saving model to model/keypoint_classifier\\keypoint_classifier.hdf5\n",
      "30/30 [==============================] - 0s 2ms/step - loss: 0.5999 - accuracy: 0.7689 - val_loss: 0.2776 - val_accuracy: 0.9390\n",
      "Epoch 126/1000\n",
      " 1/30 [>.............................] - ETA: 0s - loss: 0.6221 - accuracy: 0.7812\n",
      "Epoch 126: saving model to model/keypoint_classifier\\keypoint_classifier.hdf5\n",
      "30/30 [==============================] - 0s 2ms/step - loss: 0.5903 - accuracy: 0.7742 - val_loss: 0.2675 - val_accuracy: 0.9422\n",
      "Epoch 127/1000\n",
      " 1/30 [>.............................] - ETA: 0s - loss: 0.6229 - accuracy: 0.7500\n",
      "Epoch 127: saving model to model/keypoint_classifier\\keypoint_classifier.hdf5\n",
      "30/30 [==============================] - 0s 2ms/step - loss: 0.5835 - accuracy: 0.7715 - val_loss: 0.2771 - val_accuracy: 0.9438\n",
      "Epoch 128/1000\n",
      " 1/30 [>.............................] - ETA: 0s - loss: 0.5817 - accuracy: 0.7734\n",
      "Epoch 128: saving model to model/keypoint_classifier\\keypoint_classifier.hdf5\n",
      "30/30 [==============================] - 0s 2ms/step - loss: 0.6003 - accuracy: 0.7721 - val_loss: 0.2791 - val_accuracy: 0.9438\n",
      "Epoch 129/1000\n",
      " 1/30 [>.............................] - ETA: 0s - loss: 0.6003 - accuracy: 0.7734\n",
      "Epoch 129: saving model to model/keypoint_classifier\\keypoint_classifier.hdf5\n",
      "30/30 [==============================] - 0s 2ms/step - loss: 0.5956 - accuracy: 0.7726 - val_loss: 0.2741 - val_accuracy: 0.9414\n",
      "Epoch 130/1000\n",
      " 1/30 [>.............................] - ETA: 0s - loss: 0.5910 - accuracy: 0.7812\n",
      "Epoch 130: saving model to model/keypoint_classifier\\keypoint_classifier.hdf5\n",
      "30/30 [==============================] - 0s 2ms/step - loss: 0.5833 - accuracy: 0.7697 - val_loss: 0.2792 - val_accuracy: 0.9382\n",
      "Epoch 131/1000\n",
      " 1/30 [>.............................] - ETA: 0s - loss: 0.6360 - accuracy: 0.7891\n",
      "Epoch 131: saving model to model/keypoint_classifier\\keypoint_classifier.hdf5\n",
      "30/30 [==============================] - 0s 2ms/step - loss: 0.5693 - accuracy: 0.7800 - val_loss: 0.2714 - val_accuracy: 0.9414\n",
      "Epoch 132/1000\n",
      " 1/30 [>.............................] - ETA: 0s - loss: 0.4870 - accuracy: 0.8203\n",
      "Epoch 132: saving model to model/keypoint_classifier\\keypoint_classifier.hdf5\n",
      "30/30 [==============================] - 0s 2ms/step - loss: 0.6038 - accuracy: 0.7673 - val_loss: 0.2779 - val_accuracy: 0.9390\n",
      "Epoch 133/1000\n",
      " 1/30 [>.............................] - ETA: 0s - loss: 0.4966 - accuracy: 0.8516\n",
      "Epoch 133: saving model to model/keypoint_classifier\\keypoint_classifier.hdf5\n",
      "30/30 [==============================] - 0s 2ms/step - loss: 0.5878 - accuracy: 0.7760 - val_loss: 0.2773 - val_accuracy: 0.9446\n",
      "Epoch 134/1000\n",
      " 1/30 [>.............................] - ETA: 0s - loss: 0.6555 - accuracy: 0.7734\n",
      "Epoch 134: saving model to model/keypoint_classifier\\keypoint_classifier.hdf5\n",
      "30/30 [==============================] - 0s 2ms/step - loss: 0.6042 - accuracy: 0.7673 - val_loss: 0.2827 - val_accuracy: 0.9422\n",
      "Epoch 135/1000\n",
      " 1/30 [>.............................] - ETA: 0s - loss: 0.5657 - accuracy: 0.7891\n",
      "Epoch 135: saving model to model/keypoint_classifier\\keypoint_classifier.hdf5\n",
      "30/30 [==============================] - 0s 2ms/step - loss: 0.6062 - accuracy: 0.7697 - val_loss: 0.2793 - val_accuracy: 0.9398\n",
      "Epoch 136/1000\n",
      " 1/30 [>.............................] - ETA: 0s - loss: 0.4754 - accuracy: 0.8359\n",
      "Epoch 136: saving model to model/keypoint_classifier\\keypoint_classifier.hdf5\n",
      "30/30 [==============================] - 0s 2ms/step - loss: 0.5658 - accuracy: 0.7831 - val_loss: 0.2734 - val_accuracy: 0.9422\n",
      "Epoch 137/1000\n",
      " 1/30 [>.............................] - ETA: 0s - loss: 0.5748 - accuracy: 0.7812\n",
      "Epoch 137: saving model to model/keypoint_classifier\\keypoint_classifier.hdf5\n",
      "30/30 [==============================] - 0s 2ms/step - loss: 0.5797 - accuracy: 0.7818 - val_loss: 0.2743 - val_accuracy: 0.9398\n",
      "Epoch 138/1000\n",
      " 1/30 [>.............................] - ETA: 0s - loss: 0.4965 - accuracy: 0.8047\n",
      "Epoch 138: saving model to model/keypoint_classifier\\keypoint_classifier.hdf5\n",
      "30/30 [==============================] - 0s 3ms/step - loss: 0.5616 - accuracy: 0.7845 - val_loss: 0.2728 - val_accuracy: 0.9398\n",
      "Epoch 139/1000\n",
      " 1/30 [>.............................] - ETA: 0s - loss: 0.5925 - accuracy: 0.7422\n",
      "Epoch 139: saving model to model/keypoint_classifier\\keypoint_classifier.hdf5\n",
      "30/30 [==============================] - 0s 2ms/step - loss: 0.5901 - accuracy: 0.7773 - val_loss: 0.2837 - val_accuracy: 0.9343\n",
      "Epoch 140/1000\n",
      " 1/30 [>.............................] - ETA: 0s - loss: 0.6121 - accuracy: 0.7891\n",
      "Epoch 140: saving model to model/keypoint_classifier\\keypoint_classifier.hdf5\n",
      "30/30 [==============================] - 0s 2ms/step - loss: 0.5958 - accuracy: 0.7758 - val_loss: 0.2683 - val_accuracy: 0.9446\n",
      "Epoch 141/1000\n",
      " 1/30 [>.............................] - ETA: 0s - loss: 0.5988 - accuracy: 0.7812\n",
      "Epoch 141: saving model to model/keypoint_classifier\\keypoint_classifier.hdf5\n",
      "30/30 [==============================] - 0s 2ms/step - loss: 0.5906 - accuracy: 0.7763 - val_loss: 0.2749 - val_accuracy: 0.9398\n",
      "Epoch 142/1000\n",
      " 1/30 [>.............................] - ETA: 0s - loss: 0.6325 - accuracy: 0.7812\n",
      "Epoch 142: saving model to model/keypoint_classifier\\keypoint_classifier.hdf5\n",
      "30/30 [==============================] - 0s 3ms/step - loss: 0.5674 - accuracy: 0.7879 - val_loss: 0.2720 - val_accuracy: 0.9422\n",
      "Epoch 143/1000\n",
      " 1/30 [>.............................] - ETA: 0s - loss: 0.5389 - accuracy: 0.8281\n",
      "Epoch 143: saving model to model/keypoint_classifier\\keypoint_classifier.hdf5\n",
      "30/30 [==============================] - 0s 2ms/step - loss: 0.5854 - accuracy: 0.7768 - val_loss: 0.2747 - val_accuracy: 0.9414\n",
      "Epoch 144/1000\n",
      " 1/30 [>.............................] - ETA: 0s - loss: 0.6229 - accuracy: 0.7422\n",
      "Epoch 144: saving model to model/keypoint_classifier\\keypoint_classifier.hdf5\n",
      "30/30 [==============================] - 0s 2ms/step - loss: 0.5693 - accuracy: 0.7842 - val_loss: 0.2815 - val_accuracy: 0.9351\n",
      "Epoch 145/1000\n",
      " 1/30 [>.............................] - ETA: 0s - loss: 0.6109 - accuracy: 0.7812\n",
      "Epoch 145: saving model to model/keypoint_classifier\\keypoint_classifier.hdf5\n",
      "30/30 [==============================] - 0s 3ms/step - loss: 0.5765 - accuracy: 0.7747 - val_loss: 0.2740 - val_accuracy: 0.9375\n",
      "Epoch 146/1000\n",
      " 1/30 [>.............................] - ETA: 0s - loss: 0.5513 - accuracy: 0.7422\n",
      "Epoch 146: saving model to model/keypoint_classifier\\keypoint_classifier.hdf5\n",
      "30/30 [==============================] - 0s 2ms/step - loss: 0.5747 - accuracy: 0.7813 - val_loss: 0.2699 - val_accuracy: 0.9335\n",
      "Epoch 146: early stopping\n"
     ]
    },
    {
     "data": {
      "text/plain": [
       "<keras.callbacks.History at 0x1d261c30a00>"
      ]
     },
     "execution_count": 33,
     "metadata": {},
     "output_type": "execute_result"
    }
   ],
   "source": [
    "model.fit(\n",
    "    X_train,\n",
    "    y_train,\n",
    "    epochs=1000,\n",
    "    batch_size=128,\n",
    "    validation_data=(X_test, y_test),\n",
    "    callbacks=[cp_callback, es_callback]\n",
    ")"
   ]
  },
  {
   "cell_type": "code",
   "execution_count": 34,
   "metadata": {},
   "outputs": [
    {
     "name": "stdout",
     "output_type": "stream",
     "text": [
      "10/10 [==============================] - 0s 889us/step - loss: 0.2699 - accuracy: 0.9335\n"
     ]
    }
   ],
   "source": [
    "# モデル評価\n",
    "val_loss, val_acc = model.evaluate(X_test, y_test, batch_size=128)"
   ]
  },
  {
   "cell_type": "code",
   "execution_count": 35,
   "metadata": {},
   "outputs": [],
   "source": [
    "# 保存したモデルのロード\n",
    "model = tf.keras.models.load_model(model_save_path)"
   ]
  },
  {
   "cell_type": "code",
   "execution_count": 36,
   "metadata": {},
   "outputs": [
    {
     "name": "stdout",
     "output_type": "stream",
     "text": [
      "1/1 [==============================] - 0s 32ms/step\n",
      "[9.6723191e-02 1.1459480e-02 2.8964918e-04 8.0033338e-01 9.1194324e-02]\n",
      "3\n"
     ]
    }
   ],
   "source": [
    "# 推論テスト\n",
    "predict_result = model.predict(np.array([X_test[0]]))\n",
    "print(np.squeeze(predict_result))\n",
    "print(np.argmax(np.squeeze(predict_result)))"
   ]
  },
  {
   "cell_type": "markdown",
   "metadata": {},
   "source": [
    "# 混同行列"
   ]
  },
  {
   "cell_type": "code",
   "execution_count": 37,
   "metadata": {},
   "outputs": [
    {
     "name": "stdout",
     "output_type": "stream",
     "text": [
      "40/40 [==============================] - 0s 616us/step\n"
     ]
    },
    {
     "data": {
      "image/png": "[encoded data removed]",
      "text/plain": [
       "<Figure size 504x432 with 2 Axes>"
      ]
     },
     "metadata": {
      "needs_background": "light"
     },
     "output_type": "display_data"
    },
    {
     "name": "stdout",
     "output_type": "stream",
     "text": [
      "Classification Report\n",
      "              precision    recall  f1-score   support\n",
      "\n",
      "           0       0.98      0.94      0.96       399\n",
      "           1       0.99      0.88      0.93       391\n",
      "           2       0.88      0.99      0.93       332\n",
      "           3       0.82      0.99      0.90        81\n",
      "           4       0.81      0.87      0.84        60\n",
      "\n",
      "    accuracy                           0.93      1263\n",
      "   macro avg       0.90      0.93      0.91      1263\n",
      "weighted avg       0.94      0.93      0.93      1263\n",
      "\n"
     ]
    }
   ],
   "source": [
    "import pandas as pd\n",
    "import seaborn as sns\n",
    "import matplotlib.pyplot as plt\n",
    "from sklearn.metrics import confusion_matrix, classification_report\n",
    "\n",
    "def print_confusion_matrix(y_true, y_pred, report=True):\n",
    "    labels = sorted(list(set(y_true)))\n",
    "    cmx_data = confusion_matrix(y_true, y_pred, labels=labels)\n",
    "    \n",
    "    df_cmx = pd.DataFrame(cmx_data, index=labels, columns=labels)\n",
    " \n",
    "    fig, ax = plt.subplots(figsize=(7, 6))\n",
    "    sns.heatmap(df_cmx, annot=True, fmt='g' ,square=False)\n",
    "    ax.set_ylim(len(set(y_true)), 0)\n",
    "    plt.show()\n",
    "    \n",
    "    if report:\n",
    "        print('Classification Report')\n",
    "        print(classification_report(y_test, y_pred))\n",
    "\n",
    "Y_pred = model.predict(X_test)\n",
    "y_pred = np.argmax(Y_pred, axis=1)\n",
    "\n",
    "print_confusion_matrix(y_test, y_pred)"
   ]
  },
  {
   "cell_type": "markdown",
   "metadata": {},
   "source": [
    "# Tensorflow-Lite用のモデルへ変換"
   ]
  },
  {
   "cell_type": "code",
   "execution_count": 38,
   "metadata": {},
   "outputs": [],
   "source": [
    "# 推論専用のモデルとして保存\n",
    "model.save(model_save_path, include_optimizer=False)"
   ]
  },
  {
   "cell_type": "code",
   "execution_count": 39,
   "metadata": {},
   "outputs": [
    {
     "name": "stdout",
     "output_type": "stream",
     "text": [
      "INFO:tensorflow:Assets written to: C:\\Users\\TOMASB~1\\AppData\\Local\\Temp\\tmp10r5yzqg\\assets\n"
     ]
    },
    {
     "name": "stderr",
     "output_type": "stream",
     "text": [
      "INFO:tensorflow:Assets written to: C:\\Users\\TOMASB~1\\AppData\\Local\\Temp\\tmp10r5yzqg\\assets\n"
     ]
    },
    {
     "data": {
      "text/plain": [
       "6560"
      ]
     },
     "execution_count": 39,
     "metadata": {},
     "output_type": "execute_result"
    }
   ],
   "source": [
    "# モデルを変換(量子化)\n",
    "tflite_save_path = 'model/keypoint_classifier/keypoint_classifier.tflite'\n",
    "\n",
    "converter = tf.lite.TFLiteConverter.from_keras_model(model)\n",
    "converter.optimizations = [tf.lite.Optimize.DEFAULT]\n",
    "tflite_quantized_model = converter.convert()\n",
    "\n",
    "open(tflite_save_path, 'wb').write(tflite_quantized_model)"
   ]
  },
  {
   "cell_type": "markdown",
   "metadata": {},
   "source": [
    "# 推論テスト"
   ]
  },
  {
   "cell_type": "code",
   "execution_count": 40,
   "metadata": {},
   "outputs": [],
   "source": [
    "interpreter = tf.lite.Interpreter(model_path=tflite_save_path)\n",
    "interpreter.allocate_tensors()"
   ]
  },
  {
   "cell_type": "code",
   "execution_count": 41,
   "metadata": {},
   "outputs": [],
   "source": [
    "# 入出力テンソルを取得\n",
    "input_details = interpreter.get_input_details()\n",
    "output_details = interpreter.get_output_details()"
   ]
  },
  {
   "cell_type": "code",
   "execution_count": 42,
   "metadata": {},
   "outputs": [],
   "source": [
    "interpreter.set_tensor(input_details[0]['index'], np.array([X_test[0]]))"
   ]
  },
  {
   "cell_type": "code",
   "execution_count": 43,
   "metadata": {
    "scrolled": true
   },
   "outputs": [
    {
     "name": "stdout",
     "output_type": "stream",
     "text": [
      "CPU times: total: 0 ns\n",
      "Wall time: 0 ns\n"
     ]
    }
   ],
   "source": [
    "%%time\n",
    "# 推論実施\n",
    "interpreter.invoke()\n",
    "tflite_results = interpreter.get_tensor(output_details[0]['index'])"
   ]
  },
  {
   "cell_type": "code",
   "execution_count": 44,
   "metadata": {},
   "outputs": [
    {
     "name": "stdout",
     "output_type": "stream",
     "text": [
      "[9.6723206e-02 1.1459478e-02 2.8964930e-04 8.0033332e-01 9.1194354e-02]\n",
      "3\n"
     ]
    }
   ],
   "source": [
    "print(np.squeeze(tflite_results))\n",
    "print(np.argmax(np.squeeze(tflite_results)))"
   ]
  }
 ],
 "metadata": {
  "kernelspec": {
   "display_name": "Python 3.10.2 64-bit",
   "language": "python",
   "name": "python3"
  },
  "language_info": {
   "codemirror_mode": {
    "name": "ipython",
    "version": 3
   },
   "file_extension": ".py",
   "mimetype": "text/x-python",
   "name": "python",
   "nbconvert_exporter": "python",
   "pygments_lexer": "ipython3",
   "version": "3.10.2"
  },
  "vscode": {
   "interpreter": {
    "hash": "26de051ba29f2982a8de78e945f0abaf191376122a1563185a90213a26c5da77"
   }
  }
 },
 "nbformat": 4,
 "nbformat_minor": 4
}
